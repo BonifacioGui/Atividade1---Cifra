{
  "nbformat": 4,
  "nbformat_minor": 0,
  "metadata": {
    "colab": {
      "provenance": [],
      "authorship_tag": "ABX9TyOUrB1BeWsKM2E2PrhaxVtG",
      "include_colab_link": true
    },
    "kernelspec": {
      "name": "python3",
      "display_name": "Python 3"
    },
    "language_info": {
      "name": "python"
    }
  },
  "cells": [
    {
      "cell_type": "markdown",
      "metadata": {
        "id": "view-in-github",
        "colab_type": "text"
      },
      "source": [
        "<a href=\"https://colab.research.google.com/github/BonifacioGui/Atividade1---Cifra/blob/main/Atividade1_Cifra.ipynb\" target=\"_parent\"><img src=\"https://colab.research.google.com/assets/colab-badge.svg\" alt=\"Open In Colab\"/></a>"
      ]
    },
    {
      "cell_type": "code",
      "execution_count": 7,
      "metadata": {
        "colab": {
          "base_uri": "https://localhost:8080/"
        },
        "id": "s_3oBLhtIHT3",
        "outputId": "cd4b0a28-ccc1-4b44-a3fe-e0f5bf446e8e"
      },
      "outputs": [
        {
          "output_type": "stream",
          "name": "stdout",
          "text": [
            "\n",
            "Mensagem Original: Hello, World\n",
            "Cifrada: firCs_eD*a3h\n",
            "Decifrada: Hello, World\n",
            "\n",
            "Mensagem Original: O Palmeiras tem mundial\n",
            "Cifrada: 9_6dlAGiDpw H5_THyEgioN\n",
            "Decifrada: O Palmeiras tem mundial\n",
            "\n",
            "Mensagem Original: Foi o que ela disse\n",
            "Cifrada: \"wk\"o_B;gexEb_vBtGw\n",
            "Decifrada: Foi o que ela disse\n"
          ]
        }
      ],
      "source": [
        "import unicodedata\n",
        "\n",
        "alfabeto = \"abcdefghijklmnopqrstuvwxyzABCDEFGHIJKLMNOPQRSTUVWXYZ0123456789 ,;._#*\\\"-+\"\n",
        "\n",
        "def normalizar_texto(texto):\n",
        "    texto = ''.join(\n",
        "        c for c in unicodedata.normalize('NFD', texto) if unicodedata.category(c) != 'Mn'\n",
        "    )\n",
        "    return ''.join(c for c in texto if c in alfabeto)\n",
        "\n",
        "def cifra(texto, chave, modo='cifrar'):\n",
        "    texto = normalizar_texto(texto)\n",
        "    chave = normalizar_texto(chave)\n",
        "\n",
        "    resultado = \"\"\n",
        "    tam_alfabeto = len(alfabeto)\n",
        "\n",
        "    for i in range(len(texto)):\n",
        "        char = texto[i]\n",
        "        chave_char = chave[i % len(chave)]\n",
        "        idx_char = alfabeto.index(char)\n",
        "        idx_chave = alfabeto.index(chave_char)\n",
        "\n",
        "        if modo == 'cifrar':\n",
        "            novo_idx = (idx_char + idx_chave) % tam_alfabeto\n",
        "        elif modo == 'decifrar':\n",
        "            novo_idx = (idx_char - idx_chave) % tam_alfabeto\n",
        "        else:\n",
        "            raise ValueError(\"Modo inválido! Use 'cifrar' ou 'decifrar'.\")\n",
        "\n",
        "        resultado += alfabeto[novo_idx]\n",
        "\n",
        "    return resultado\n",
        "\n",
        "#Teste1\n",
        "mensagem1 = \"Hello, World\"\n",
        "chave1 = \"Segredo123\"\n",
        "cifrada1 = cifra(mensagem1, chave1, 'cifrar')\n",
        "decifrada1 = cifra(cifrada1, chave1, 'decifrar')\n",
        "print(\"\\nMensagem Original:\", mensagem1)\n",
        "print(\"Cifrada:\", cifrada1)\n",
        "print(\"Decifrada:\", decifrada1)\n",
        "\n",
        "#Teste 2\n",
        "mensagem2 = \"O Palmeiras tem mundial\"\n",
        "chave2 = \"verdaoCampeao123\"\n",
        "cifrada2 = cifra(mensagem2, chave2, 'cifrar')\n",
        "decifrada2 = cifra(cifrada2, chave2, 'decifrar')\n",
        "print(\"\\nMensagem Original:\", mensagem2)\n",
        "print(\"Cifrada:\", cifrada2)\n",
        "print(\"Decifrada:\", decifrada2)\n",
        "\n",
        "#Teste 3\n",
        "mensagem3 = \"Foi o que ela disse\"\n",
        "chave3 = \"MichaelScottbestbossever\"\n",
        "cifrada3 = cifra(mensagem3, chave3, 'cifrar')\n",
        "decifrada3 = cifra(cifrada3, chave3, 'decifrar')\n",
        "print(\"\\nMensagem Original:\", mensagem3)\n",
        "print(\"Cifrada:\", cifrada3)\n",
        "print(\"Decifrada:\", decifrada3)\n"
      ]
    }
  ]
}